{
  "nbformat": 4,
  "nbformat_minor": 0,
  "metadata": {
    "colab": {
      "provenance": [],
      "authorship_tag": "ABX9TyMJeWrGvNvblQikqrhNnQkY",
      "include_colab_link": true
    },
    "kernelspec": {
      "name": "python3",
      "display_name": "Python 3"
    },
    "language_info": {
      "name": "python"
    }
  },
  "cells": [
    {
      "cell_type": "markdown",
      "metadata": {
        "id": "view-in-github",
        "colab_type": "text"
      },
      "source": [
        "<a href=\"https://colab.research.google.com/github/VasconcelosCarla/imersaoAlura/blob/main/ChatParaCrian%C3%A7as.ipynb\" target=\"_parent\"><img src=\"https://colab.research.google.com/assets/colab-badge.svg\" alt=\"Open In Colab\"/></a>"
      ]
    },
    {
      "cell_type": "code",
      "source": [
        "#Instalando o SDK do Google\n",
        "!pip install -q -U google-generativeai"
      ],
      "metadata": {
        "id": "ZJzAvm1HYiIG"
      },
      "execution_count": 64,
      "outputs": []
    },
    {
      "cell_type": "code",
      "source": [
        "#Configurações iniciais\n",
        "import google.generativeai as genai\n",
        "from google.colab import userdata\n",
        "\n",
        "GOOGLE_API_KEY= userdata.get('SECRET_KEY')\n",
        "genai.configure(api_key=GOOGLE_API_KEY)"
      ],
      "metadata": {
        "id": "u383Q1MFYtRw"
      },
      "execution_count": 65,
      "outputs": []
    },
    {
      "cell_type": "code",
      "source": [
        "#Listando os modelos disponíveis\n",
        "for m in genai.list_models():\n",
        "  if 'generateContent' in m.supported_generation_methods:\n",
        "    print(m.name)"
      ],
      "metadata": {
        "colab": {
          "base_uri": "https://localhost:8080/",
          "height": 139
        },
        "id": "UK0CyXtcatsT",
        "outputId": "d23b7c98-efa0-4fa7-f69e-f84631522edc"
      },
      "execution_count": 66,
      "outputs": [
        {
          "output_type": "stream",
          "name": "stdout",
          "text": [
            "models/gemini-1.0-pro\n",
            "models/gemini-1.0-pro-001\n",
            "models/gemini-1.0-pro-latest\n",
            "models/gemini-1.0-pro-vision-latest\n",
            "models/gemini-1.5-pro-latest\n",
            "models/gemini-pro\n",
            "models/gemini-pro-vision\n"
          ]
        }
      ]
    },
    {
      "cell_type": "code",
      "source": [
        "generation_config = {\n",
        "  \"candidate_count\": 1,\n",
        "  \"temperature\": 1,\n",
        "}"
      ],
      "metadata": {
        "id": "ovgQmDWva8Su"
      },
      "execution_count": 67,
      "outputs": []
    },
    {
      "cell_type": "code",
      "source": [
        "model = genai.GenerativeModel(model_name='gemini-1.0-pro',\n",
        "                                  generation_config=generation_config,\n",
        "                                  )"
      ],
      "metadata": {
        "id": "qlsCn_73bZ7i"
      },
      "execution_count": 68,
      "outputs": []
    },
    {
      "cell_type": "code",
      "source": [
        "chat = model.start_chat(history=[])\n"
      ],
      "metadata": {
        "id": "N7A-eNECcZBO"
      },
      "execution_count": 69,
      "outputs": []
    },
    {
      "cell_type": "code",
      "source": [
        "import emoji\n",
        "\n",
        "# --- Adaptando as respostas do Gemini ---\n",
        "def tornar_resposta_amigavel(resposta):\n",
        "    resposta_amigavel = resposta + \" 😊\"\n",
        "    return resposta_amigavel\n",
        "\n",
        "\n",
        "# ---  Instruções amigáveis ---\n",
        "print(\"Olá! 👋 Sou o Geninho, seu ajudante de estudos. 😊\")\n",
        "print(\"Que tal aprendermos algo novo hoje? 🤔\")\n",
        "\n",
        "# --- Loop principal ---\n",
        "while True:\n",
        "    prompt = input(\"Que conteúdo você deseja estudar hoje? 🤓 \")\n",
        "    response = chat.send_message(prompt)\n",
        "    resposta_amigavel = tornar_resposta_amigavel(response.text)\n",
        "    print(f\"**Geninho**: {resposta_amigavel}\")  # Imprime a resposta formatada diretamente\n",
        "\n",
        "    continuar = input(\"Gostaria de aprender mais? Digite 'sim' para continuar ou qualquer outra tecla para sair. 😄 \")\n",
        "    if continuar.lower() != 'sim':\n",
        "        break\n",
        "\n",
        "print(\"Foi muito legal estudar com você! Até a próxima! 👋 🎉\")"
      ],
      "metadata": {
        "colab": {
          "base_uri": "https://localhost:8080/",
          "height": 593
        },
        "id": "PzAuAFzZg9eI",
        "outputId": "16e4cfca-0374-434f-f7b4-03c86d64978e"
      },
      "execution_count": 71,
      "outputs": [
        {
          "output_type": "stream",
          "name": "stdout",
          "text": [
            "Olá! 👋 Sou o Geninho, seu ajudante de estudos. 😊\n",
            "Que tal aprendermos algo novo hoje? 🤔\n",
            "Que conteúdo você deseja estudar hoje? 🤓 Como posso somar 1+1?\n",
            "**Geninho**: 1 + 1 pode ser somado da seguinte forma:\n",
            "\n",
            "1. **Adicionar 1:** Comece com o primeiro número, que é 1.\n",
            "2. **Adicionar outro 1:** Adicione o segundo número, que também é 1, ao primeiro número.\n",
            "3. **Resultado:** Quando você adiciona 1 + 1, o resultado é 2.\n",
            "\n",
            "Portanto, 1 + 1 = 2. 😊\n",
            "Gostaria de aprender mais? Digite 'sim' para continuar ou qualquer outra tecla para sair. 😄 sim\n",
            "Que conteúdo você deseja estudar hoje? 🤓 Posso aprender Brincando?\n",
            "**Geninho**: Sim, você pode aprender brincando por meio de:\n",
            "\n",
            "* **Jogos de tabuleiro e cartas:** Eles podem desenvolver habilidades cognitivas, como estratégia, resolução de problemas e tomada de decisão.\n",
            "* **Jogos de perguntas e respostas:** Esses jogos podem testar seu conhecimento e ampliar seu vocabulário.\n",
            "* **Jogos de construção:** Como LEGO ou Minecraft, podem estimular a criatividade, a resolução de problemas e as habilidades motoras finas.\n",
            "* **Jogos de dramatização:** Como faz de conta e RPG, podem desenvolver habilidades sociais, empatia e imaginação.\n",
            "* **Jogos de movimento:** Como esconde-esconde ou pega-pega, podem melhorar a coordenação, o equilíbrio e as habilidades sociais.\n",
            "* **Jogos digitais:** Alguns jogos digitais foram projetados especificamente para fins educacionais, tornando o aprendizado divertido e envolvente.\n",
            "\n",
            "Ao incorporar brincadeiras em seu processo de aprendizado, você pode:\n",
            "\n",
            "* Tornar o aprendizado mais agradável e envolvente.\n",
            "* Melhorar a retenção de informações.\n",
            "* Desenvolver habilidades essenciais, como resolução de problemas e pensamento crítico.\n",
            "* Estimular a curiosidade e a motivação.\n",
            "* Reduzir o estresse e a ansiedade associados ao aprendizado.\n",
            "\n",
            "Lembre-se de que a brincadeira deve ser significativa e relacionada ao que você está aprendendo. Ao incorporar atividades lúdicas em seu plano de estudos, você pode tornar o aprendizado uma experiência mais agradável e eficaz. 😊\n",
            "Gostaria de aprender mais? Digite 'sim' para continuar ou qualquer outra tecla para sair. 😄 não\n",
            "Foi muito legal estudar com você! Até a próxima! 👋 🎉\n"
          ]
        }
      ]
    }
  ]
}